{
 "cells": [
  {
   "cell_type": "markdown",
   "id": "de98063a",
   "metadata": {},
   "source": [
    "## pandas.io.formats.info.TableBuilderAbstract"
   ]
  },
  {
   "cell_type": "code",
   "execution_count": null,
   "id": "0b34f8ca",
   "metadata": {},
   "outputs": [],
   "source": [
    "# pandas.io.formats.info.TableBuilderAbstract.data\n",
    "try:\n",
    "    obj = class_constructor()\n",
    "    ret = obj.data\n",
    "    type_pandas_io_formats_info_TableBuilderAbstract_data = (\n",
    "    getattr(ret, '__module__', None) + '.' + ret.__class__.__name__\n",
    "        if getattr(ret, '__module__', None)\n",
    "        else ret.__class__.__name__\n",
    "        )\n",
    "    print(\"✅ pandas.io.formats.info.TableBuilderAbstract.data:\",\n",
    "        type_pandas_io_formats_info_TableBuilderAbstract_data)\n",
    "except Exception as e:\n",
    "    type_pandas_io_formats_info_TableBuilderAbstract_data = '_syft_missing'\n",
    "    print('❌ pandas.io.formats.info.TableBuilderAbstract.data: Return unavailable')\n",
    "    print(\"  Please fix this return type code until there is no exception\")\n",
    "    print('  Error:', e)\n"
   ]
  },
  {
   "cell_type": "code",
   "execution_count": null,
   "id": "6cdd2707",
   "metadata": {},
   "outputs": [],
   "source": [
    "# pandas.io.formats.info.TableBuilderAbstract.display_memory_usage\n",
    "try:\n",
    "    obj = class_constructor()\n",
    "    ret = obj.display_memory_usage\n",
    "    type_pandas_io_formats_info_TableBuilderAbstract_display_memory_usage = (\n",
    "    getattr(ret, '__module__', None) + '.' + ret.__class__.__name__\n",
    "        if getattr(ret, '__module__', None)\n",
    "        else ret.__class__.__name__\n",
    "        )\n",
    "    print(\"✅ pandas.io.formats.info.TableBuilderAbstract.display_memory_usage:\",\n",
    "        type_pandas_io_formats_info_TableBuilderAbstract_display_memory_usage)\n",
    "except Exception as e:\n",
    "    type_pandas_io_formats_info_TableBuilderAbstract_display_memory_usage = '_syft_missing'\n",
    "    print('❌ pandas.io.formats.info.TableBuilderAbstract.display_memory_usage: Return unavailable')\n",
    "    print(\"  Please fix this return type code until there is no exception\")\n",
    "    print('  Error:', e)\n"
   ]
  },
  {
   "cell_type": "code",
   "execution_count": null,
   "id": "435a3024",
   "metadata": {},
   "outputs": [],
   "source": [
    "# pandas.io.formats.info.TableBuilderAbstract.dtype_counts\n",
    "try:\n",
    "    obj = class_constructor()\n",
    "    ret = obj.dtype_counts\n",
    "    type_pandas_io_formats_info_TableBuilderAbstract_dtype_counts = (\n",
    "    getattr(ret, '__module__', None) + '.' + ret.__class__.__name__\n",
    "        if getattr(ret, '__module__', None)\n",
    "        else ret.__class__.__name__\n",
    "        )\n",
    "    print(\"✅ pandas.io.formats.info.TableBuilderAbstract.dtype_counts:\",\n",
    "        type_pandas_io_formats_info_TableBuilderAbstract_dtype_counts)\n",
    "except Exception as e:\n",
    "    type_pandas_io_formats_info_TableBuilderAbstract_dtype_counts = '_syft_missing'\n",
    "    print('❌ pandas.io.formats.info.TableBuilderAbstract.dtype_counts: Return unavailable')\n",
    "    print(\"  Please fix this return type code until there is no exception\")\n",
    "    print('  Error:', e)\n"
   ]
  },
  {
   "cell_type": "code",
   "execution_count": null,
   "id": "8fb87cca",
   "metadata": {},
   "outputs": [],
   "source": [
    "# pandas.io.formats.info.TableBuilderAbstract.dtypes\n",
    "try:\n",
    "    obj = class_constructor()\n",
    "    ret = obj.dtypes\n",
    "    type_pandas_io_formats_info_TableBuilderAbstract_dtypes = (\n",
    "    getattr(ret, '__module__', None) + '.' + ret.__class__.__name__\n",
    "        if getattr(ret, '__module__', None)\n",
    "        else ret.__class__.__name__\n",
    "        )\n",
    "    print(\"✅ pandas.io.formats.info.TableBuilderAbstract.dtypes:\",\n",
    "        type_pandas_io_formats_info_TableBuilderAbstract_dtypes)\n",
    "except Exception as e:\n",
    "    type_pandas_io_formats_info_TableBuilderAbstract_dtypes = '_syft_missing'\n",
    "    print('❌ pandas.io.formats.info.TableBuilderAbstract.dtypes: Return unavailable')\n",
    "    print(\"  Please fix this return type code until there is no exception\")\n",
    "    print('  Error:', e)\n"
   ]
  },
  {
   "cell_type": "code",
   "execution_count": null,
   "id": "2353ca82",
   "metadata": {},
   "outputs": [],
   "source": [
    "# pandas.io.formats.info.TableBuilderAbstract.memory_usage_string\n",
    "try:\n",
    "    obj = class_constructor()\n",
    "    ret = obj.memory_usage_string\n",
    "    type_pandas_io_formats_info_TableBuilderAbstract_memory_usage_string = (\n",
    "    getattr(ret, '__module__', None) + '.' + ret.__class__.__name__\n",
    "        if getattr(ret, '__module__', None)\n",
    "        else ret.__class__.__name__\n",
    "        )\n",
    "    print(\"✅ pandas.io.formats.info.TableBuilderAbstract.memory_usage_string:\",\n",
    "        type_pandas_io_formats_info_TableBuilderAbstract_memory_usage_string)\n",
    "except Exception as e:\n",
    "    type_pandas_io_formats_info_TableBuilderAbstract_memory_usage_string = '_syft_missing'\n",
    "    print('❌ pandas.io.formats.info.TableBuilderAbstract.memory_usage_string: Return unavailable')\n",
    "    print(\"  Please fix this return type code until there is no exception\")\n",
    "    print('  Error:', e)\n"
   ]
  },
  {
   "cell_type": "code",
   "execution_count": null,
   "id": "1cd3cffe",
   "metadata": {},
   "outputs": [],
   "source": [
    "# pandas.io.formats.info.TableBuilderAbstract.non_null_counts\n",
    "try:\n",
    "    obj = class_constructor()\n",
    "    ret = obj.non_null_counts\n",
    "    type_pandas_io_formats_info_TableBuilderAbstract_non_null_counts = (\n",
    "    getattr(ret, '__module__', None) + '.' + ret.__class__.__name__\n",
    "        if getattr(ret, '__module__', None)\n",
    "        else ret.__class__.__name__\n",
    "        )\n",
    "    print(\"✅ pandas.io.formats.info.TableBuilderAbstract.non_null_counts:\",\n",
    "        type_pandas_io_formats_info_TableBuilderAbstract_non_null_counts)\n",
    "except Exception as e:\n",
    "    type_pandas_io_formats_info_TableBuilderAbstract_non_null_counts = '_syft_missing'\n",
    "    print('❌ pandas.io.formats.info.TableBuilderAbstract.non_null_counts: Return unavailable')\n",
    "    print(\"  Please fix this return type code until there is no exception\")\n",
    "    print('  Error:', e)\n"
   ]
  }
 ],
 "metadata": {},
 "nbformat": 4,
 "nbformat_minor": 5
}