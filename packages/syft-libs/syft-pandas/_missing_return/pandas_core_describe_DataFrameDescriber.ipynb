{
 "cells": [
  {
   "cell_type": "markdown",
   "id": "fa96c620",
   "metadata": {},
   "source": [
    "## pandas.core.describe.DataFrameDescriber"
   ]
  },
  {
   "cell_type": "code",
   "execution_count": null,
   "id": "768a4328",
   "metadata": {},
   "outputs": [],
   "source": [
    "import pandas\n",
    "def class_constructor(*args, **kwargs):\n",
    "    obj = pandas.core.describe.DataFrameDescriber()\n",
    "    return obj\n"
   ]
  },
  {
   "cell_type": "code",
   "execution_count": null,
   "id": "eecd73fb",
   "metadata": {},
   "outputs": [],
   "source": [
    "# pandas.core.describe.DataFrameDescriber._select_data\n",
    "try:\n",
    "    obj = class_constructor()\n",
    "    ret = obj._select_data()\n",
    "    type_pandas_core_describe_DataFrameDescriber__select_data = (\n",
    "    getattr(ret, '__module__', None) + '.' + ret.__class__.__name__\n",
    "        if getattr(ret, '__module__', None)\n",
    "        else ret.__class__.__name__\n",
    "        )\n",
    "    print(\"✅ pandas.core.describe.DataFrameDescriber._select_data:\",\n",
    "        type_pandas_core_describe_DataFrameDescriber__select_data)\n",
    "except Exception as e:\n",
    "    type_pandas_core_describe_DataFrameDescriber__select_data = '_syft_missing'\n",
    "    print('❌ pandas.core.describe.DataFrameDescriber._select_data: Return unavailable')\n",
    "    print(\"  Please fix this return type code until there is no exception\")\n",
    "    print('   Error:', e)\n"
   ]
  }
 ],
 "metadata": {},
 "nbformat": 4,
 "nbformat_minor": 5
}