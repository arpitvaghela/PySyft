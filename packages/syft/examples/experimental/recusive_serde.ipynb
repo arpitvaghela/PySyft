{
 "cells": [
  {
   "cell_type": "code",
   "execution_count": 4,
   "id": "ead3be58-ebbb-4aef-aa0b-e58edb357948",
   "metadata": {
    "execution": {
     "iopub.execute_input": "2021-08-04T15:29:53.414830Z",
     "iopub.status.busy": "2021-08-04T15:29:53.414593Z",
     "iopub.status.idle": "2021-08-04T15:29:53.419071Z",
     "shell.execute_reply": "2021-08-04T15:29:53.418055Z",
     "shell.execute_reply.started": "2021-08-04T15:29:53.414805Z"
    },
    "tags": []
   },
   "outputs": [],
   "source": [
    "from functools import partial\n",
    "from importlib import reload\n",
    "import sys\n",
    "import pandas as pd\n",
    "from typing import List\n",
    "from typing import Optional\n",
    "from typing import Tuple\n",
    "from typing import Union as TypeUnion"
   ]
  },
  {
   "cell_type": "code",
   "execution_count": 7,
   "id": "88b1c5ad-7059-416f-9c3d-e79641e61d71",
   "metadata": {
    "execution": {
     "iopub.execute_input": "2021-08-04T15:30:20.890825Z",
     "iopub.status.busy": "2021-08-04T15:30:20.890477Z",
     "iopub.status.idle": "2021-08-04T15:30:20.895798Z",
     "shell.execute_reply": "2021-08-04T15:30:20.894872Z",
     "shell.execute_reply.started": "2021-08-04T15:30:20.890796Z"
    },
    "tags": []
   },
   "outputs": [],
   "source": [
    "import syft as sy\n",
    "# syft absolute\n",
    "import syft\n",
    "from syft.ast import add_dynamic_objects\n",
    "from syft.ast.globals import Globals\n",
    "from syft.core.node.abstract.node import AbstractNodeClient\n",
    "from syft.core.node.common.client import Client\n",
    "from syft.lib import lib_ast\n",
    "from syft.core.common.serde.recursive import RecursiveSerde"
   ]
  },
  {
   "cell_type": "code",
   "execution_count": 8,
   "id": "0edacb18-6a23-4094-9178-01888d2cb662",
   "metadata": {
    "execution": {
     "iopub.execute_input": "2021-08-04T15:30:21.262715Z",
     "iopub.status.busy": "2021-08-04T15:30:21.262469Z",
     "iopub.status.idle": "2021-08-04T15:30:21.268120Z",
     "shell.execute_reply": "2021-08-04T15:30:21.267078Z",
     "shell.execute_reply.started": "2021-08-04T15:30:21.262689Z"
    },
    "tags": []
   },
   "outputs": [],
   "source": [
    "import module_test\n",
    "sys.modules[\"module_test\"] = module_test"
   ]
  },
  {
   "cell_type": "code",
   "execution_count": 9,
   "id": "4cce8235-8fa5-4677-bbde-08859af81dfc",
   "metadata": {
    "execution": {
     "iopub.execute_input": "2021-08-04T15:30:21.753769Z",
     "iopub.status.busy": "2021-08-04T15:30:21.753382Z",
     "iopub.status.idle": "2021-08-04T15:30:21.775552Z",
     "shell.execute_reply": "2021-08-04T15:30:21.774618Z",
     "shell.execute_reply.started": "2021-08-04T15:30:21.753728Z"
    },
    "tags": []
   },
   "outputs": [
    {
     "data": {
      "text/plain": [
       "{'n': 1,\n",
       " 'data':    A\n",
       " 0  1\n",
       " 1  2\n",
       " 2  3}"
      ]
     },
     "execution_count": 9,
     "metadata": {},
     "output_type": "execute_result"
    }
   ],
   "source": [
    "data = pd.DataFrame({\"A\":[1,2,3]})\n",
    "module_test.A(1,data).__dict__"
   ]
  },
  {
   "cell_type": "code",
   "execution_count": 10,
   "id": "98e35fda-4a74-4010-ae73-6f3f2fdd9dd2",
   "metadata": {
    "execution": {
     "iopub.execute_input": "2021-08-04T15:30:25.856856Z",
     "iopub.status.busy": "2021-08-04T15:30:25.856072Z",
     "iopub.status.idle": "2021-08-04T15:30:25.866216Z",
     "shell.execute_reply": "2021-08-04T15:30:25.863665Z",
     "shell.execute_reply.started": "2021-08-04T15:30:25.856774Z"
    },
    "tags": []
   },
   "outputs": [],
   "source": [
    "wrapped_type = module_test.A"
   ]
  },
  {
   "cell_type": "code",
   "execution_count": 11,
   "id": "b29f5cff-83b1-4923-b3b4-5abddffb40a6",
   "metadata": {
    "execution": {
     "iopub.execute_input": "2021-08-04T15:30:26.691290Z",
     "iopub.status.busy": "2021-08-04T15:30:26.690604Z",
     "iopub.status.idle": "2021-08-04T15:30:26.698642Z",
     "shell.execute_reply": "2021-08-04T15:30:26.697644Z",
     "shell.execute_reply.started": "2021-08-04T15:30:26.691212Z"
    },
    "tags": []
   },
   "outputs": [],
   "source": [
    "# since we get the \n",
    "class Wrapper(RecursiveSerde,module_test.A):\n",
    "    __attr_allowlist__ = [\"n\",\"data\"]\n",
    "    \n",
    "    def __init__(self,value):\n",
    "        self.obj = value\n",
    "        super().__init__(value.n,value.data)\n",
    "        \n",
    "    def upcast(self):\n",
    "        return self.obj\n",
    "        \n",
    "    @staticmethod\n",
    "    def wrapped_type()-> type:\n",
    "        return wrapped_type"
   ]
  },
  {
   "cell_type": "code",
   "execution_count": 14,
   "id": "83503655-9ede-4a42-a034-afa4cdd409f8",
   "metadata": {
    "execution": {
     "iopub.execute_input": "2021-08-04T15:30:51.005396Z",
     "iopub.status.busy": "2021-08-04T15:30:51.005162Z",
     "iopub.status.idle": "2021-08-04T15:30:51.011831Z",
     "shell.execute_reply": "2021-08-04T15:30:51.010775Z",
     "shell.execute_reply.started": "2021-08-04T15:30:51.005370Z"
    },
    "tags": []
   },
   "outputs": [],
   "source": [
    "from syft.util import aggressive_set_attr\n",
    "\n",
    "# relevant part of GenerateWrapper\n",
    "def add_wrapper_class(Wrapper:RecursiveSerde,wrapped_type:type, import_path:str):\n",
    "    module_type = type(syft)\n",
    "    module_parts = import_path.split(\".\")\n",
    "    klass = module_parts.pop()\n",
    "    Wrapper.__name__ = f\"{klass}Wrapper\"\n",
    "    Wrapper.__module__ = f\"syft.wrappers.{'.'.join(module_parts)}\"\n",
    "    # create a fake module `wrappers` under `syft`\n",
    "    if \"wrappers\" not in syft.__dict__:\n",
    "        syft.__dict__[\"wrappers\"] = module_type(name=\"wrappers\")\n",
    "    # for each part of the path, create a fake module and add it to it's parent\n",
    "    parent = syft.__dict__[\"wrappers\"]\n",
    "    for n in module_parts:\n",
    "        if n not in parent.__dict__:\n",
    "            parent.__dict__[n] = module_type(name=n)\n",
    "        parent = parent.__dict__[n]\n",
    "    # finally add our wrapper class to the end of the path\n",
    "    parent.__dict__[Wrapper.__name__] = Wrapper\n",
    "\n",
    "    aggressive_set_attr(\n",
    "        obj=wrapped_type, name=\"_sy_serializable_wrapper_type\", attr=Wrapper\n",
    "    )\n",
    "\n",
    "add_wrapper_class(Wrapper,wrapped_type=module_test.A,import_path=\"module_test.A\")"
   ]
  },
  {
   "cell_type": "code",
   "execution_count": 15,
   "id": "3a0c2172-75cc-4d75-80df-dff423b8f9ee",
   "metadata": {
    "execution": {
     "iopub.execute_input": "2021-08-04T15:30:52.469273Z",
     "iopub.status.busy": "2021-08-04T15:30:52.468657Z",
     "iopub.status.idle": "2021-08-04T15:30:52.488042Z",
     "shell.execute_reply": "2021-08-04T15:30:52.487141Z",
     "shell.execute_reply.started": "2021-08-04T15:30:52.469198Z"
    },
    "tags": []
   },
   "outputs": [
    {
     "data": {
      "text/plain": [
       "{'n': 1,\n",
       " 'data':    A\n",
       " 0  1\n",
       " 1  2\n",
       " 2  3}"
      ]
     },
     "execution_count": 15,
     "metadata": {},
     "output_type": "execute_result"
    }
   ],
   "source": [
    "proto = module_test.A._sy_serializable_wrapper_type(module_test.A(1,data))._object2proto()\n",
    "module_test.A._sy_serializable_wrapper_type._proto2object(proto).__dict__"
   ]
  },
  {
   "cell_type": "code",
   "execution_count": 16,
   "id": "c3178b45-0362-4339-8167-2edbe8119db4",
   "metadata": {
    "execution": {
     "iopub.execute_input": "2021-08-04T15:30:53.703907Z",
     "iopub.status.busy": "2021-08-04T15:30:53.703211Z",
     "iopub.status.idle": "2021-08-04T15:30:53.721884Z",
     "shell.execute_reply": "2021-08-04T15:30:53.720914Z",
     "shell.execute_reply.started": "2021-08-04T15:30:53.703828Z"
    },
    "jupyter": {
     "source_hidden": true
    },
    "tags": []
   },
   "outputs": [],
   "source": [
    "# ast \n",
    "\n",
    "def update_ast_test(\n",
    "    ast_or_client: TypeUnion[Globals, AbstractNodeClient],\n",
    "    methods: List[Tuple[str, str]],\n",
    "    dynamic_objects: Optional[List[Tuple[str, str]]] = None,\n",
    ") -> None:\n",
    "    \"\"\"Checks functionality of update_ast, uses create_ast\"\"\"\n",
    "    if isinstance(ast_or_client, Globals):\n",
    "        ast = ast_or_client\n",
    "        test_ast = create_ast_test(\n",
    "            client=None, methods=methods, dynamic_objects=dynamic_objects\n",
    "        )\n",
    "        ast.add_attr(attr_name=\"module_test\", attr=test_ast.attrs[\"module_test\"])\n",
    "    elif isinstance(ast_or_client, AbstractNodeClient):\n",
    "        client = ast_or_client\n",
    "        test_ast = create_ast_test(\n",
    "            client=client, methods=methods, dynamic_objects=dynamic_objects\n",
    "        )\n",
    "        client.lib_ast.attrs[\"module_test\"] = test_ast.attrs[\"module_test\"]\n",
    "        setattr(client, \"module_test\", test_ast.attrs[\"module_test\"])\n",
    "    else:\n",
    "        raise ValueError(\n",
    "            f\"Expected param of type (Globals, AbstractNodeClient), but got {type(ast_or_client)}\"\n",
    "        )\n",
    "\n",
    "\n",
    "def create_ast_test(\n",
    "    client: Optional[AbstractNodeClient],\n",
    "    methods: List[Tuple[str, str]],\n",
    "    dynamic_objects: Optional[List[Tuple[str, str]]],\n",
    ") -> Globals:\n",
    "    \"\"\"Unit test for create_ast functionality\"\"\"\n",
    "    ast = Globals(client)\n",
    "\n",
    "    for method, return_type in methods:\n",
    "        ast.add_path(\n",
    "            path=method, framework_reference=module_test, return_type_name=return_type\n",
    "        )\n",
    "\n",
    "    if dynamic_objects:\n",
    "        add_dynamic_objects(ast, dynamic_objects)\n",
    "\n",
    "    for klass in ast.classes:\n",
    "        klass.create_pointer_class()\n",
    "        klass.create_send_method()\n",
    "        klass.create_storable_object_attr_convenience_methods()\n",
    "\n",
    "    return ast\n"
   ]
  },
  {
   "cell_type": "code",
   "execution_count": 17,
   "id": "a8c25bdf-3afd-493f-b7f9-72417bd0c4b0",
   "metadata": {
    "execution": {
     "iopub.execute_input": "2021-08-04T15:30:54.900674Z",
     "iopub.status.busy": "2021-08-04T15:30:54.900333Z",
     "iopub.status.idle": "2021-08-04T15:30:54.905118Z",
     "shell.execute_reply": "2021-08-04T15:30:54.904062Z",
     "shell.execute_reply.started": "2021-08-04T15:30:54.900638Z"
    },
    "tags": []
   },
   "outputs": [],
   "source": [
    "module_test_methods = [\n",
    "    (\"module_test.A\",\"module_test.A\"),\n",
    "    (\"module_test.A.get_n\",\"syft.lib.python.Int\"),\n",
    "    (\"module_test.A.get_data\",\"pandas.DataFrame\")\n",
    "]"
   ]
  },
  {
   "cell_type": "code",
   "execution_count": 18,
   "id": "8b67dbf7-dddc-4775-a2fa-b7c763f10f11",
   "metadata": {
    "execution": {
     "iopub.execute_input": "2021-08-04T15:30:55.691493Z",
     "iopub.status.busy": "2021-08-04T15:30:55.690743Z",
     "iopub.status.idle": "2021-08-04T15:30:55.960763Z",
     "shell.execute_reply": "2021-08-04T15:30:55.960197Z",
     "shell.execute_reply.started": "2021-08-04T15:30:55.691413Z"
    },
    "tags": []
   },
   "outputs": [],
   "source": [
    "update_ast_test(\n",
    "        ast_or_client=syft.lib_ast,\n",
    "        methods=module_test_methods\n",
    "    )\n",
    "\n",
    "    # Make sure that when we register a new client it would update the specific AST\n",
    "lib_ast.loaded_lib_constructors[\"module_test\"] = partial(\n",
    "        update_ast_test, methods=module_test_methods\n",
    "    )\n",
    "\n",
    "client = sy.VirtualMachine().get_root_client()"
   ]
  },
  {
   "cell_type": "code",
   "execution_count": 19,
   "id": "4e789015-2459-42cf-a47b-22046b75156d",
   "metadata": {
    "execution": {
     "iopub.execute_input": "2021-08-04T15:30:56.574138Z",
     "iopub.status.busy": "2021-08-04T15:30:56.573451Z",
     "iopub.status.idle": "2021-08-04T15:30:56.590110Z",
     "shell.execute_reply": "2021-08-04T15:30:56.587977Z",
     "shell.execute_reply.started": "2021-08-04T15:30:56.574058Z"
    },
    "tags": []
   },
   "outputs": [
    {
     "data": {
      "text/plain": [
       "(Module:\n",
       " \t.A -> <syft.ast.klass.Class object at 0x7f8557043ac0>,\n",
       " {'get_n': <syft.ast.callable.Callable at 0x7f8557043b80>,\n",
       "  'get_data': <syft.ast.callable.Callable at 0x7f8557043be0>})"
      ]
     },
     "execution_count": 19,
     "metadata": {},
     "output_type": "execute_result"
    }
   ],
   "source": [
    "lib_ast.attrs.get(\"module_test\"),lib_ast.attrs.get(\"module_test\").attrs.get(\"A\").attrs"
   ]
  },
  {
   "cell_type": "code",
   "execution_count": 20,
   "id": "19924ee2-f8a1-466a-a1c7-ee30a3a994d5",
   "metadata": {
    "execution": {
     "iopub.execute_input": "2021-08-04T15:30:59.936739Z",
     "iopub.status.busy": "2021-08-04T15:30:59.936490Z",
     "iopub.status.idle": "2021-08-04T15:30:59.988551Z",
     "shell.execute_reply": "2021-08-04T15:30:59.987832Z",
     "shell.execute_reply.started": "2021-08-04T15:30:59.936710Z"
    },
    "tags": []
   },
   "outputs": [
    {
     "name": "stdout",
     "output_type": "stream",
     "text": [
      "SaveObjectAction <Storable: 1>\n",
      "<syft.core.node.common.node_service.object_action.obj_action_service.ImmediateObjectActionServiceWithoutReply object at 0x7f855704dc10>\n",
      "SaveObjectAction <Storable:   A0 11 22 3>\n",
      "<syft.core.node.common.node_service.object_action.obj_action_service.ImmediateObjectActionServiceWithoutReply object at 0x7f855704dc10>\n",
      "RunClassMethodAction A(IntPointer,DataFramePointer, )\n",
      "<syft.core.node.common.node_service.object_action.obj_action_service.ImmediateObjectActionServiceWithoutReply object at 0x7f855704dc10>\n",
      "<GarbageCollectObjectAction: d873b7c143f847c4b1bfacfdd1c7de83>\n",
      "<syft.core.node.common.node_service.object_action.obj_action_service.EventualObjectActionServiceWithoutReply object at 0x7f855704d640>\n",
      "<GarbageCollectObjectAction: 8d68b28718524e6588059ad8fff1650e>\n",
      "<syft.core.node.common.node_service.object_action.obj_action_service.EventualObjectActionServiceWithoutReply object at 0x7f855704d640>\n"
     ]
    }
   ],
   "source": [
    "a_ptr = client.module_test.A(1,data)"
   ]
  },
  {
   "cell_type": "code",
   "execution_count": 21,
   "id": "3d62a678-541b-445c-97c6-b7114601721a",
   "metadata": {
    "execution": {
     "iopub.execute_input": "2021-08-04T15:31:01.629091Z",
     "iopub.status.busy": "2021-08-04T15:31:01.628842Z",
     "iopub.status.idle": "2021-08-04T15:31:01.652325Z",
     "shell.execute_reply": "2021-08-04T15:31:01.651461Z",
     "shell.execute_reply.started": "2021-08-04T15:31:01.629063Z"
    },
    "tags": []
   },
   "outputs": [
    {
     "name": "stdout",
     "output_type": "stream",
     "text": [
      "RunClassMethodAction APointer.get_n(, )\n",
      "<syft.core.node.common.node_service.object_action.obj_action_service.ImmediateObjectActionServiceWithoutReply object at 0x7f855704dc10>\n",
      "<GetObjectAction: 83563230ea6e433c9b2897c312158bdf>\n",
      "<syft.core.node.common.node_service.object_action.obj_action_service.ImmediateObjectActionServiceWithReply object at 0x7f855704dee0>\n"
     ]
    },
    {
     "data": {
      "text/plain": [
       "1"
      ]
     },
     "execution_count": 21,
     "metadata": {},
     "output_type": "execute_result"
    }
   ],
   "source": [
    "a_ptr.get_n().get()"
   ]
  },
  {
   "cell_type": "code",
   "execution_count": 22,
   "id": "909e11aa-d540-4e97-a61d-24b3e448ffb9",
   "metadata": {
    "execution": {
     "iopub.execute_input": "2021-08-04T15:31:02.518108Z",
     "iopub.status.busy": "2021-08-04T15:31:02.517818Z",
     "iopub.status.idle": "2021-08-04T15:31:02.547568Z",
     "shell.execute_reply": "2021-08-04T15:31:02.546817Z",
     "shell.execute_reply.started": "2021-08-04T15:31:02.518077Z"
    },
    "tags": []
   },
   "outputs": [
    {
     "name": "stdout",
     "output_type": "stream",
     "text": [
      "RunClassMethodAction APointer.get_data(, )\n",
      "<syft.core.node.common.node_service.object_action.obj_action_service.ImmediateObjectActionServiceWithoutReply object at 0x7f855704dc10>\n",
      "<GetObjectAction: 931a19542e304635820d8b9ba1fd67c4>\n",
      "<syft.core.node.common.node_service.object_action.obj_action_service.ImmediateObjectActionServiceWithReply object at 0x7f855704dee0>\n"
     ]
    },
    {
     "data": {
      "text/html": [
       "<div>\n",
       "<style scoped>\n",
       "    .dataframe tbody tr th:only-of-type {\n",
       "        vertical-align: middle;\n",
       "    }\n",
       "\n",
       "    .dataframe tbody tr th {\n",
       "        vertical-align: top;\n",
       "    }\n",
       "\n",
       "    .dataframe thead th {\n",
       "        text-align: right;\n",
       "    }\n",
       "</style>\n",
       "<table border=\"1\" class=\"dataframe\">\n",
       "  <thead>\n",
       "    <tr style=\"text-align: right;\">\n",
       "      <th></th>\n",
       "      <th>A</th>\n",
       "    </tr>\n",
       "  </thead>\n",
       "  <tbody>\n",
       "    <tr>\n",
       "      <th>0</th>\n",
       "      <td>1</td>\n",
       "    </tr>\n",
       "    <tr>\n",
       "      <th>1</th>\n",
       "      <td>2</td>\n",
       "    </tr>\n",
       "    <tr>\n",
       "      <th>2</th>\n",
       "      <td>3</td>\n",
       "    </tr>\n",
       "  </tbody>\n",
       "</table>\n",
       "</div>"
      ],
      "text/plain": [
       "   A\n",
       "0  1\n",
       "1  2\n",
       "2  3"
      ]
     },
     "execution_count": 22,
     "metadata": {},
     "output_type": "execute_result"
    }
   ],
   "source": [
    "a_ptr.get_data().get()"
   ]
  },
  {
   "cell_type": "code",
   "execution_count": null,
   "id": "3018c8fd-ff65-40cc-89ba-a7c6fcf0bfa6",
   "metadata": {},
   "outputs": [],
   "source": []
  }
 ],
 "metadata": {
  "kernelspec": {
   "display_name": "Python 3",
   "language": "python",
   "name": "python3"
  },
  "language_info": {
   "codemirror_mode": {
    "name": "ipython",
    "version": 3
   },
   "file_extension": ".py",
   "mimetype": "text/x-python",
   "name": "python",
   "nbconvert_exporter": "python",
   "pygments_lexer": "ipython3",
   "version": "3.9.5"
  }
 },
 "nbformat": 4,
 "nbformat_minor": 5
}
