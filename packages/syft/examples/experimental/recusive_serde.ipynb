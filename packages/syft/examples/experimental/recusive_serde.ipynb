{
 "cells": [
  {
   "cell_type": "code",
   "execution_count": 1,
   "id": "ead3be58-ebbb-4aef-aa0b-e58edb357948",
   "metadata": {
    "execution": {
     "iopub.execute_input": "2021-08-04T14:31:08.940714Z",
     "iopub.status.busy": "2021-08-04T14:31:08.940473Z",
     "iopub.status.idle": "2021-08-04T14:31:08.944485Z",
     "shell.execute_reply": "2021-08-04T14:31:08.943891Z",
     "shell.execute_reply.started": "2021-08-04T14:31:08.940659Z"
    },
    "tags": []
   },
   "outputs": [],
   "source": [
    "from functools import partial\n",
    "from importlib import reload\n",
    "import sys\n",
    "from typing import List\n",
    "from typing import Optional\n",
    "from typing import Tuple\n",
    "from typing import Union as TypeUnion"
   ]
  },
  {
   "cell_type": "code",
   "execution_count": 2,
   "id": "88b1c5ad-7059-416f-9c3d-e79641e61d71",
   "metadata": {
    "execution": {
     "iopub.execute_input": "2021-08-04T14:31:08.945697Z",
     "iopub.status.busy": "2021-08-04T14:31:08.945518Z",
     "iopub.status.idle": "2021-08-04T14:31:10.864281Z",
     "shell.execute_reply": "2021-08-04T14:31:10.863699Z",
     "shell.execute_reply.started": "2021-08-04T14:31:08.945679Z"
    },
    "tags": []
   },
   "outputs": [],
   "source": [
    "import syft as sy\n",
    "# syft absolute\n",
    "import syft\n",
    "from syft.ast import add_dynamic_objects\n",
    "from syft.ast.globals import Globals\n",
    "from syft.core.node.abstract.node import AbstractNodeClient\n",
    "from syft.core.node.common.client import Client\n",
    "from syft.lib import lib_ast\n",
    "from syft.core.common.serde.recursive import RecursiveSerde"
   ]
  },
  {
   "cell_type": "code",
   "execution_count": 3,
   "id": "0edacb18-6a23-4094-9178-01888d2cb662",
   "metadata": {
    "execution": {
     "iopub.execute_input": "2021-08-04T14:31:10.865080Z",
     "iopub.status.busy": "2021-08-04T14:31:10.864942Z",
     "iopub.status.idle": "2021-08-04T14:31:10.868168Z",
     "shell.execute_reply": "2021-08-04T14:31:10.867511Z",
     "shell.execute_reply.started": "2021-08-04T14:31:10.865063Z"
    },
    "tags": []
   },
   "outputs": [],
   "source": [
    "import module_test\n",
    "sys.modules[\"module_test\"] = module_test"
   ]
  },
  {
   "cell_type": "code",
   "execution_count": 4,
   "id": "98e35fda-4a74-4010-ae73-6f3f2fdd9dd2",
   "metadata": {
    "execution": {
     "iopub.execute_input": "2021-08-04T14:31:10.869091Z",
     "iopub.status.busy": "2021-08-04T14:31:10.868922Z",
     "iopub.status.idle": "2021-08-04T14:31:10.884766Z",
     "shell.execute_reply": "2021-08-04T14:31:10.884204Z",
     "shell.execute_reply.started": "2021-08-04T14:31:10.869073Z"
    }
   },
   "outputs": [],
   "source": [
    "wrapped_type = module_test.A"
   ]
  },
  {
   "cell_type": "code",
   "execution_count": 5,
   "id": "b29f5cff-83b1-4923-b3b4-5abddffb40a6",
   "metadata": {
    "execution": {
     "iopub.execute_input": "2021-08-04T14:31:10.885773Z",
     "iopub.status.busy": "2021-08-04T14:31:10.885547Z",
     "iopub.status.idle": "2021-08-04T14:31:10.898799Z",
     "shell.execute_reply": "2021-08-04T14:31:10.898250Z",
     "shell.execute_reply.started": "2021-08-04T14:31:10.885747Z"
    },
    "tags": []
   },
   "outputs": [],
   "source": [
    "class Wrapper(RecursiveSerde,module_test.A):\n",
    "    __attr_allowlist__ = [\"n\"]\n",
    "    \n",
    "    def __init__(self,value):\n",
    "        self.obj = value\n",
    "        super().__init__(value.n)\n",
    "        \n",
    "    def upcast(self):\n",
    "        return self.obj\n",
    "        \n",
    "    @staticmethod\n",
    "    def wrapped_type()-> type:\n",
    "        return wrapped_type"
   ]
  },
  {
   "cell_type": "code",
   "execution_count": 6,
   "id": "83503655-9ede-4a42-a034-afa4cdd409f8",
   "metadata": {
    "execution": {
     "iopub.execute_input": "2021-08-04T14:31:10.899858Z",
     "iopub.status.busy": "2021-08-04T14:31:10.899652Z",
     "iopub.status.idle": "2021-08-04T14:31:10.915281Z",
     "shell.execute_reply": "2021-08-04T14:31:10.914661Z",
     "shell.execute_reply.started": "2021-08-04T14:31:10.899834Z"
    },
    "tags": []
   },
   "outputs": [],
   "source": [
    "from syft.util import aggressive_set_attr\n",
    "\n",
    "module_type = type(syft)\n",
    "wrapped_type = module_test.A\n",
    "import_path = \"module_test.A\"\n",
    "\n",
    "# relevant part of GenerateWrapper\n",
    "module_parts = import_path.split(\".\")\n",
    "klass = module_parts.pop()\n",
    "Wrapper.__name__ = f\"{klass}Wrapper\"\n",
    "Wrapper.__module__ = f\"syft.wrappers.{'.'.join(module_parts)}\"\n",
    "# create a fake module `wrappers` under `syft`\n",
    "if \"wrappers\" not in syft.__dict__:\n",
    "    syft.__dict__[\"wrappers\"] = module_type(name=\"wrappers\")\n",
    "# for each part of the path, create a fake module and add it to it's parent\n",
    "parent = syft.__dict__[\"wrappers\"]\n",
    "for n in module_parts:\n",
    "    if n not in parent.__dict__:\n",
    "        parent.__dict__[n] = module_type(name=n)\n",
    "    parent = parent.__dict__[n]\n",
    "# finally add our wrapper class to the end of the path\n",
    "parent.__dict__[Wrapper.__name__] = Wrapper\n",
    "\n",
    "aggressive_set_attr(\n",
    "    obj=wrapped_type, name=\"_sy_serializable_wrapper_type\", attr=Wrapper\n",
    ")"
   ]
  },
  {
   "cell_type": "code",
   "execution_count": 7,
   "id": "3a0c2172-75cc-4d75-80df-dff423b8f9ee",
   "metadata": {
    "execution": {
     "iopub.execute_input": "2021-08-04T14:31:10.916847Z",
     "iopub.status.busy": "2021-08-04T14:31:10.916658Z",
     "iopub.status.idle": "2021-08-04T14:31:10.939864Z",
     "shell.execute_reply": "2021-08-04T14:31:10.939278Z",
     "shell.execute_reply.started": "2021-08-04T14:31:10.916823Z"
    },
    "tags": []
   },
   "outputs": [
    {
     "data": {
      "text/plain": [
       "(data: \"\\n\\024syft.lib.python.Dict\\022v\\n1\\n\\026syft.lib.python.String\\022\\027\\n\\001n\\022\\022\\n\\020\\337R\\274M\\364\\310LI\\201\\n\\315\\312\\230\\257\\233O\\022-\\n\\023syft.lib.python.Int\\022\\026\\010\\001\\022\\022\\n\\020=\\362\\036\\344\\215)A\\000\\2313\\\\\\r\\205\\022\\021w\\032\\022\\n\\020C\\3313\\344\\237\\246A\\274\\247\\317\\324\\272\\246\\007\\340\\256\"\n",
       " fully_qualified_name: \"syft.wrappers.module_test.AWrapper\",\n",
       " {'n': 1})"
      ]
     },
     "execution_count": 7,
     "metadata": {},
     "output_type": "execute_result"
    }
   ],
   "source": [
    "proto = module_test.A._sy_serializable_wrapper_type(module_test.A(1))._object2proto()\n",
    "proto, module_test.A._sy_serializable_wrapper_type._proto2object(proto).__dict__"
   ]
  },
  {
   "cell_type": "code",
   "execution_count": 8,
   "id": "c3178b45-0362-4339-8167-2edbe8119db4",
   "metadata": {
    "execution": {
     "iopub.execute_input": "2021-08-04T14:31:10.941243Z",
     "iopub.status.busy": "2021-08-04T14:31:10.940885Z",
     "iopub.status.idle": "2021-08-04T14:31:10.952648Z",
     "shell.execute_reply": "2021-08-04T14:31:10.951934Z",
     "shell.execute_reply.started": "2021-08-04T14:31:10.941215Z"
    },
    "jupyter": {
     "source_hidden": true
    },
    "tags": []
   },
   "outputs": [],
   "source": [
    "# ast \n",
    "\n",
    "def update_ast_test(\n",
    "    ast_or_client: TypeUnion[Globals, AbstractNodeClient],\n",
    "    methods: List[Tuple[str, str]],\n",
    "    dynamic_objects: Optional[List[Tuple[str, str]]] = None,\n",
    ") -> None:\n",
    "    \"\"\"Checks functionality of update_ast, uses create_ast\"\"\"\n",
    "    if isinstance(ast_or_client, Globals):\n",
    "        ast = ast_or_client\n",
    "        test_ast = create_ast_test(\n",
    "            client=None, methods=methods, dynamic_objects=dynamic_objects\n",
    "        )\n",
    "        ast.add_attr(attr_name=\"module_test\", attr=test_ast.attrs[\"module_test\"])\n",
    "    elif isinstance(ast_or_client, AbstractNodeClient):\n",
    "        client = ast_or_client\n",
    "        test_ast = create_ast_test(\n",
    "            client=client, methods=methods, dynamic_objects=dynamic_objects\n",
    "        )\n",
    "        client.lib_ast.attrs[\"module_test\"] = test_ast.attrs[\"module_test\"]\n",
    "        setattr(client, \"module_test\", test_ast.attrs[\"module_test\"])\n",
    "    else:\n",
    "        raise ValueError(\n",
    "            f\"Expected param of type (Globals, AbstractNodeClient), but got {type(ast_or_client)}\"\n",
    "        )\n",
    "\n",
    "\n",
    "def create_ast_test(\n",
    "    client: Optional[AbstractNodeClient],\n",
    "    methods: List[Tuple[str, str]],\n",
    "    dynamic_objects: Optional[List[Tuple[str, str]]],\n",
    ") -> Globals:\n",
    "    \"\"\"Unit test for create_ast functionality\"\"\"\n",
    "    ast = Globals(client)\n",
    "\n",
    "    for method, return_type in methods:\n",
    "        ast.add_path(\n",
    "            path=method, framework_reference=module_test, return_type_name=return_type\n",
    "        )\n",
    "\n",
    "    if dynamic_objects:\n",
    "        add_dynamic_objects(ast, dynamic_objects)\n",
    "\n",
    "    for klass in ast.classes:\n",
    "        klass.create_pointer_class()\n",
    "        klass.create_send_method()\n",
    "        klass.create_storable_object_attr_convenience_methods()\n",
    "\n",
    "    return ast\n"
   ]
  },
  {
   "cell_type": "code",
   "execution_count": 9,
   "id": "a8c25bdf-3afd-493f-b7f9-72417bd0c4b0",
   "metadata": {
    "execution": {
     "iopub.execute_input": "2021-08-04T14:31:10.953554Z",
     "iopub.status.busy": "2021-08-04T14:31:10.953383Z",
     "iopub.status.idle": "2021-08-04T14:31:10.969617Z",
     "shell.execute_reply": "2021-08-04T14:31:10.969019Z",
     "shell.execute_reply.started": "2021-08-04T14:31:10.953536Z"
    },
    "tags": []
   },
   "outputs": [],
   "source": [
    "module_test_methods = [\n",
    "    (\"module_test.A\",\"module_test.A\"),\n",
    "    (\"module_test.A.get_n\",\"syft.lib.python.Int\")\n",
    "]"
   ]
  },
  {
   "cell_type": "code",
   "execution_count": 10,
   "id": "8b67dbf7-dddc-4775-a2fa-b7c763f10f11",
   "metadata": {
    "execution": {
     "iopub.execute_input": "2021-08-04T14:31:10.970499Z",
     "iopub.status.busy": "2021-08-04T14:31:10.970346Z",
     "iopub.status.idle": "2021-08-04T14:31:11.184881Z",
     "shell.execute_reply": "2021-08-04T14:31:11.184289Z",
     "shell.execute_reply.started": "2021-08-04T14:31:10.970481Z"
    },
    "tags": []
   },
   "outputs": [],
   "source": [
    "update_ast_test(\n",
    "        ast_or_client=syft.lib_ast,\n",
    "        methods=module_test_methods\n",
    "    )\n",
    "\n",
    "    # Make sure that when we register a new client it would update the specific AST\n",
    "lib_ast.loaded_lib_constructors[\"module_test\"] = partial(\n",
    "        update_ast_test, methods=module_test_methods\n",
    "    )\n",
    "\n",
    "client = sy.VirtualMachine().get_root_client()"
   ]
  },
  {
   "cell_type": "code",
   "execution_count": 11,
   "id": "4e789015-2459-42cf-a47b-22046b75156d",
   "metadata": {
    "execution": {
     "iopub.execute_input": "2021-08-04T14:31:11.185679Z",
     "iopub.status.busy": "2021-08-04T14:31:11.185540Z",
     "iopub.status.idle": "2021-08-04T14:31:11.190223Z",
     "shell.execute_reply": "2021-08-04T14:31:11.189446Z",
     "shell.execute_reply.started": "2021-08-04T14:31:11.185663Z"
    },
    "tags": []
   },
   "outputs": [
    {
     "data": {
      "text/plain": [
       "(Module:\n",
       " \t.A -> <syft.ast.klass.Class object at 0x7f70dd488c40>,\n",
       " {'get_n': <syft.ast.callable.Callable at 0x7f70dd4883a0>})"
      ]
     },
     "execution_count": 11,
     "metadata": {},
     "output_type": "execute_result"
    }
   ],
   "source": [
    "lib_ast.attrs.get(\"module_test\"),lib_ast.attrs.get(\"module_test\").attrs.get(\"A\").attrs"
   ]
  },
  {
   "cell_type": "code",
   "execution_count": 12,
   "id": "19924ee2-f8a1-466a-a1c7-ee30a3a994d5",
   "metadata": {
    "execution": {
     "iopub.execute_input": "2021-08-04T14:31:11.191255Z",
     "iopub.status.busy": "2021-08-04T14:31:11.191093Z",
     "iopub.status.idle": "2021-08-04T14:31:11.234339Z",
     "shell.execute_reply": "2021-08-04T14:31:11.233730Z",
     "shell.execute_reply.started": "2021-08-04T14:31:11.191236Z"
    },
    "tags": []
   },
   "outputs": [
    {
     "name": "stdout",
     "output_type": "stream",
     "text": [
      "SaveObjectAction <Storable: 1>\n",
      "<syft.core.node.common.node_service.object_action.obj_action_service.ImmediateObjectActionServiceWithoutReply object at 0x7f70dd4b75b0>\n",
      "RunClassMethodAction A(IntPointer, )\n",
      "<syft.core.node.common.node_service.object_action.obj_action_service.ImmediateObjectActionServiceWithoutReply object at 0x7f70dd4b75b0>\n",
      "<GarbageCollectObjectAction: fdfcce4821524bc7b4a30e64d9c89b10>\n",
      "<syft.core.node.common.node_service.object_action.obj_action_service.EventualObjectActionServiceWithoutReply object at 0x7f70dd4b71c0>\n"
     ]
    }
   ],
   "source": [
    "a_ptr = client.module_test.A(1)"
   ]
  },
  {
   "cell_type": "code",
   "execution_count": 13,
   "id": "3d62a678-541b-445c-97c6-b7114601721a",
   "metadata": {
    "execution": {
     "iopub.execute_input": "2021-08-04T14:31:11.235290Z",
     "iopub.status.busy": "2021-08-04T14:31:11.235135Z",
     "iopub.status.idle": "2021-08-04T14:31:11.250801Z",
     "shell.execute_reply": "2021-08-04T14:31:11.250369Z",
     "shell.execute_reply.started": "2021-08-04T14:31:11.235272Z"
    },
    "tags": []
   },
   "outputs": [
    {
     "name": "stdout",
     "output_type": "stream",
     "text": [
      "RunClassMethodAction APointer.get_n(, )\n",
      "<syft.core.node.common.node_service.object_action.obj_action_service.ImmediateObjectActionServiceWithoutReply object at 0x7f70dd4b75b0>\n",
      "<GetObjectAction: a49a02236e144dc7b2790da3b2bd9e48>\n",
      "<syft.core.node.common.node_service.object_action.obj_action_service.ImmediateObjectActionServiceWithReply object at 0x7f70dd48e610>\n"
     ]
    },
    {
     "data": {
      "text/plain": [
       "1"
      ]
     },
     "execution_count": 13,
     "metadata": {},
     "output_type": "execute_result"
    }
   ],
   "source": [
    "a_ptr.get_n().get()"
   ]
  },
  {
   "cell_type": "code",
   "execution_count": null,
   "id": "909e11aa-d540-4e97-a61d-24b3e448ffb9",
   "metadata": {},
   "outputs": [],
   "source": []
  }
 ],
 "metadata": {
  "kernelspec": {
   "display_name": "Python 3",
   "language": "python",
   "name": "python3"
  },
  "language_info": {
   "codemirror_mode": {
    "name": "ipython",
    "version": 3
   },
   "file_extension": ".py",
   "mimetype": "text/x-python",
   "name": "python",
   "nbconvert_exporter": "python",
   "pygments_lexer": "ipython3",
   "version": "3.9.5"
  }
 },
 "nbformat": 4,
 "nbformat_minor": 5
}
